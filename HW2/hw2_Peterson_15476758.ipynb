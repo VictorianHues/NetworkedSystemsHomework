{
 "cells": [
  {
   "cell_type": "markdown",
   "metadata": {},
   "source": [
    "# Homework Assignment II"
   ]
  },
  {
   "cell_type": "markdown",
   "metadata": {},
   "source": [
    "Name: **Victoria Peterson**\n",
    "\n",
    "ID: **15476758**\n",
    "\n",
    "Course: “Performance of Networked Systems”, Block II, 2024\n",
    "\n",
    "Lecturer: Prof.dr. Rob van der Mei\n",
    "\n",
    "Teacher Assistant: Ritul Satish\n",
    "\n",
    "---"
   ]
  },
  {
   "cell_type": "code",
   "execution_count": 1,
   "metadata": {},
   "outputs": [],
   "source": [
    "import numpy as np\n",
    "import matplotlib.pyplot as plt"
   ]
  },
  {
   "cell_type": "markdown",
   "metadata": {},
   "source": [
    "## I : Traffic Management in IP networks\n",
    "\n",
    "During the lecture on IP Traffic Management, two important methods to regulate incoming traffic were\n",
    "discussed: (1) traffic shaping, and (2) traffic policing."
   ]
  },
  {
   "cell_type": "markdown",
   "metadata": {},
   "source": [
    "---\n",
    "\n",
    "### Exercise 1\n",
    "\n",
    "**What are the main differences traffic shaping and traffic policing?**\n",
    "\n",
    "Traffic Shaping is a router functionality that aims to filter \"bursty\" traffic before entering a network by delaying packets that arrive in groups such that they arrive at a \"peak-rate\" $r$ rather than in immediate succession. \n",
    "\n",
    "This differs from Traffic Policing in a number of ways such that instead of \"slowing-down\" incoming packets, the router marks or discards packets that arrive at a rate higher than an agreed-upon mean rate $r$ and burst tolerance $b$. These packets are *not* delayed like they are in Traffic Shaping and the marking rules are based on individual \"contracts\" made with specific classes rather than overall rate limits.\n",
    "\n",
    "\n"
   ]
  },
  {
   "cell_type": "markdown",
   "metadata": {},
   "source": [
    "---\n",
    "\n",
    "Let us now assume that the incoming – unregulated – traffic over a 50-seconds time frame looks like the\n",
    "left picture in Figure 1 below.\n",
    "\n",
    "![Figure 1](1.png)\n",
    "\n",
    "We first investigate the impact of traffic shaping. As discussed during the lectures, shaping functionality\n",
    "may introduce delay to the incoming traffic stream when the bitrate temporarily exceeds the shaping rate.\n",
    "That is, in terms of a Leaky Bucket (LB) implementation, the “water level” will then rise and introduce\n",
    "delay to incoming traffic\n",
    "\n"
   ]
  },
  {
   "cell_type": "markdown",
   "metadata": {},
   "source": [
    "---\n",
    "\n",
    "### Exercise 2\n",
    "\n",
    "**Make a graph that shows the delay induced by the shaper (i.e., the “water level”) over time. Be precise and motivate your findings**"
   ]
  },
  {
   "cell_type": "markdown",
   "metadata": {},
   "source": [
    "#### Define Traffic Rate for Timespans"
   ]
  },
  {
   "cell_type": "code",
   "execution_count": 2,
   "metadata": {},
   "outputs": [],
   "source": [
    "traffic = {\n",
    "    (0, 10): 5,\n",
    "    (15, 20): 7.5,\n",
    "    (25, 50): 2.5\n",
    "}"
   ]
  },
  {
   "cell_type": "markdown",
   "metadata": {},
   "source": [
    "#### Define the Bitrate Limit for Traffic Shaping"
   ]
  },
  {
   "cell_type": "code",
   "execution_count": 3,
   "metadata": {},
   "outputs": [],
   "source": [
    "globalRate = 3.5"
   ]
  },
  {
   "cell_type": "markdown",
   "metadata": {},
   "source": [
    "#### Create Array of Shaped Traffic"
   ]
  },
  {
   "cell_type": "code",
   "execution_count": 4,
   "metadata": {},
   "outputs": [
    {
     "data": {
      "text/plain": [
       "'\\nOutput:\\n    shapedTraffic: shaped traffic array\\n'"
      ]
     },
     "execution_count": 4,
     "metadata": {},
     "output_type": "execute_result"
    }
   ],
   "source": [
    "'''\n",
    "Function to create a shaped traffic array based on the rate limit\n",
    "Input:\n",
    "    traffic: dictionary with the traffic information\n",
    "    rateLimit: rate limit to shape the traffic\n",
    "'''\n",
    "def trafficShaping(traffic, rateLimit):\n",
    "    shapedTraffic = []\n",
    "    traffic = sorted(traffic.items())\n",
    "\n",
    "    totalTime = 0\n",
    "    previousEndTime = 0\n",
    "\n",
    "    for i in range(len(traffic)):\n",
    "        time = traffic[i][0][1] - traffic[i][0][0]\n",
    "\n",
    "        if traffic[i][1] > rateLimit:\n",
    "            shapingValue = traffic[i][1]/rateLimit\n",
    "        else:\n",
    "            shapingValue = 1\n",
    "\n",
    "        shapedRate = traffic[i][1]/shapingValue\n",
    "        shapedTime = time*shapingValue\n",
    "\n",
    "        initialTime = traffic[i][0][0]\n",
    "        endTime =  initialTime + shapedTime\n",
    "\n",
    "        if initialTime < totalTime:\n",
    "            endTime = totalTime + shapedTime\n",
    "            initialTime = totalTime\n",
    "\n",
    "        if previousEndTime < initialTime:\n",
    "            shapedTraffic.append(((previousEndTime, initialTime), 0))\n",
    "        \n",
    "        totalTime = endTime\n",
    "\n",
    "        shapedTraffic.append(((initialTime, endTime), shapedRate))\n",
    "        previousEndTime = endTime\n",
    "\n",
    "    return shapedTraffic\n",
    "'''\n",
    "Output:\n",
    "    shapedTraffic: shaped traffic array\n",
    "'''"
   ]
  },
  {
   "cell_type": "markdown",
   "metadata": {},
   "source": [
    "#### Helper Function to find Bitrate at a Specific Time"
   ]
  },
  {
   "cell_type": "code",
   "execution_count": 5,
   "metadata": {},
   "outputs": [
    {
     "data": {
      "text/plain": [
       "'\\nOutput:\\n    rate: traffic rate at the specific time\\n'"
      ]
     },
     "execution_count": 5,
     "metadata": {},
     "output_type": "execute_result"
    }
   ],
   "source": [
    "'''\n",
    "Function to get the traffic bitrate at a specific time\n",
    "Input:\n",
    "    traffic: dictionary with the traffic information\n",
    "    specificTime: specific time to get the traffic rate\n",
    "'''\n",
    "def getTrafficRate(traffic,  specificTime):\n",
    "    for (start, end), rate in traffic.items():\n",
    "        if start <= specificTime < end:\n",
    "            return rate\n",
    "    return 0.0\n",
    "'''\n",
    "Output:\n",
    "    rate: traffic rate at the specific time\n",
    "'''"
   ]
  },
  {
   "cell_type": "markdown",
   "metadata": {},
   "source": [
    "#### Function to find delay at every timestep of traffic"
   ]
  },
  {
   "cell_type": "code",
   "execution_count": 6,
   "metadata": {},
   "outputs": [
    {
     "data": {
      "text/plain": [
       "'\\nOutput:\\n    timeArray: time array\\n    delayArray: delay array\\n'"
      ]
     },
     "execution_count": 6,
     "metadata": {},
     "output_type": "execute_result"
    }
   ],
   "source": [
    "'''\n",
    "Function to calculate the traffic shaping delay\n",
    "Input:\n",
    "    traffic: dictionary with the traffic information\n",
    "    shapedTraffic: shaped traffic array\n",
    "'''\n",
    "def trafficShapingDelay(traffic, shapedTraffic):\n",
    "    timestepSize = 0.1\n",
    "    currentDelay = 0.0\n",
    "    timeArray = []\n",
    "    delayArray = []\n",
    "\n",
    "    for (start, end), rate in shapedTraffic:\n",
    "        currentTime = start\n",
    "\n",
    "        while currentTime < end:\n",
    "            currentRate = getTrafficRate(traffic, currentTime)\n",
    "\n",
    "            delayAdjustment = currentRate - rate\n",
    "\n",
    "            currentDelay += delayAdjustment * timestepSize\n",
    "\n",
    "            timeArray.append(currentTime)\n",
    "            delayArray.append(currentDelay)\n",
    "\n",
    "            currentTime += timestepSize\n",
    "\n",
    "            currentTime = np.round(currentTime, 1)\n",
    "    \n",
    "    return timeArray, delayArray\n",
    "'''\n",
    "Output:\n",
    "    timeArray: time array\n",
    "    delayArray: delay array\n",
    "'''"
   ]
  },
  {
   "cell_type": "markdown",
   "metadata": {},
   "source": [
    "#### Shaped Traffic for Rate Limit of $3.5$ Mbit/s"
   ]
  },
  {
   "cell_type": "code",
   "execution_count": 7,
   "metadata": {},
   "outputs": [],
   "source": [
    "shapedTraffic = trafficShaping(traffic, globalRate)"
   ]
  },
  {
   "cell_type": "markdown",
   "metadata": {},
   "source": [
    "#### Delay from Traffic Shaping"
   ]
  },
  {
   "cell_type": "code",
   "execution_count": 8,
   "metadata": {},
   "outputs": [],
   "source": [
    "bitRateDelayTime, bitRateDelay = trafficShapingDelay(traffic, shapedTraffic)"
   ]
  },
  {
   "cell_type": "markdown",
   "metadata": {},
   "source": [
    "#### Plot Accumulated Delay over time for Traffic Shaping"
   ]
  },
  {
   "cell_type": "code",
   "execution_count": 9,
   "metadata": {},
   "outputs": [
    {
     "data": {
      "image/png": "[encoded data removed]",
      "text/plain": [
       "<Figure size 720x432 with 1 Axes>"
      ]
     },
     "metadata": {
      "needs_background": "light"
     },
     "output_type": "display_data"
    }
   ],
   "source": [
    "plt.figure(figsize=(10, 6))\n",
    "\n",
    "plt.plot(bitRateDelayTime, bitRateDelay, color='skyblue', linewidth=2)\n",
    "plt.xlabel('Time')\n",
    "plt.ylabel('Delay')\n",
    "plt.title('Traffic Shaping Delay')\n",
    "plt.grid(True)\n",
    "\n",
    "plt.show()"
   ]
  },
  {
   "cell_type": "markdown",
   "metadata": {},
   "source": [
    "---\n",
    "\n",
    "### Exercise 3\n",
    "\n",
    "**Make a graph that plots the bitrate of the shaped traffic over time. Be precise and motivate your findings.**"
   ]
  },
  {
   "cell_type": "markdown",
   "metadata": {},
   "source": [
    "#### Plot of Shaped Traffic for Rate Limit of $3.5$ Mbit/sec"
   ]
  },
  {
   "cell_type": "code",
   "execution_count": 10,
   "metadata": {},
   "outputs": [
    {
     "data": {
      "image/png": "[encoded data removed]",
      "text/plain": [
       "<Figure size 720x432 with 1 Axes>"
      ]
     },
     "metadata": {
      "needs_background": "light"
     },
     "output_type": "display_data"
    }
   ],
   "source": [
    "# Plots Traffic as individual bar graphs, iterating through the shaped traffic and the original traffic over time steps\n",
    "plt.figure(figsize=(10, 6))\n",
    "\n",
    "colors = ['skyblue', 'lightgreen', 'salmon', 'orange', 'purple']\n",
    "timestepSize = 0.1\n",
    "\n",
    "# Plot the shaped traffic\n",
    "for idx, ((start, end), rate) in enumerate(shapedTraffic):\n",
    "    color = colors[idx % len(colors)]\n",
    "    current_time = start\n",
    "    while current_time < end:\n",
    "        plt.bar(current_time, rate, width=timestepSize, color=color, align='edge')\n",
    "        current_time += timestepSize\n",
    "\n",
    "for (start, end), rate in traffic.items():\n",
    "    current_time = start\n",
    "    while current_time < end:\n",
    "        plt.bar(current_time, rate, width=timestepSize, color='gray', align='edge', alpha=0.5)\n",
    "        current_time += timestepSize\n",
    "\n",
    "plt.xlabel('Time')\n",
    "plt.ylabel('Bitrate')\n",
    "plt.title('Traffic Shaping Bitrate')\n",
    "plt.grid(True)\n",
    "\n",
    "plt.show()"
   ]
  },
  {
   "cell_type": "markdown",
   "metadata": {},
   "source": [
    "---\n",
    "\n",
    "\n",
    "### Exercise 4\n",
    "\n",
    "Answer the same question as in questions 2 and 3, but where the shaping rate is now 1.75 Mbit/s (instead of 3.5 Mbit/s)"
   ]
  },
  {
   "cell_type": "code",
   "execution_count": 11,
   "metadata": {},
   "outputs": [],
   "source": [
    "globalRate2 = 1.75"
   ]
  },
  {
   "cell_type": "markdown",
   "metadata": {},
   "source": [
    "#### Shaped Traffic for Rate Limit of $1.75$ Mbit/s"
   ]
  },
  {
   "cell_type": "code",
   "execution_count": 12,
   "metadata": {},
   "outputs": [],
   "source": [
    "shapedTraffic2 = trafficShaping(traffic, globalRate2)"
   ]
  },
  {
   "cell_type": "markdown",
   "metadata": {},
   "source": [
    "#### Delay from Traffic Shaping"
   ]
  },
  {
   "cell_type": "code",
   "execution_count": 13,
   "metadata": {},
   "outputs": [],
   "source": [
    "bitRateDelayTime2, bitRateDelay2 = trafficShapingDelay(traffic, shapedTraffic2)"
   ]
  },
  {
   "cell_type": "markdown",
   "metadata": {},
   "source": [
    "#### Traffic Shaping Delay Plot"
   ]
  },
  {
   "cell_type": "code",
   "execution_count": 14,
   "metadata": {
    "scrolled": true
   },
   "outputs": [
    {
     "data": {
      "image/png": "[encoded data removed]",
      "text/plain": [
       "<Figure size 720x432 with 1 Axes>"
      ]
     },
     "metadata": {
      "needs_background": "light"
     },
     "output_type": "display_data"
    }
   ],
   "source": [
    "plt.figure(figsize=(10, 6))\n",
    "\n",
    "plt.plot(bitRateDelayTime2, bitRateDelay2, color='skyblue', linewidth=2)\n",
    "plt.xlabel('Time')\n",
    "plt.ylabel('Delay')\n",
    "plt.title('Traffic Shaping Delay')\n",
    "plt.grid(True)\n",
    "\n",
    "plt.show()"
   ]
  },
  {
   "cell_type": "markdown",
   "metadata": {},
   "source": [
    "#### Traffic Shaping Plot"
   ]
  },
  {
   "cell_type": "code",
   "execution_count": 15,
   "metadata": {},
   "outputs": [
    {
     "data": {
      "image/png": "[encoded data removed]",
      "text/plain": [
       "<Figure size 720x432 with 1 Axes>"
      ]
     },
     "metadata": {
      "needs_background": "light"
     },
     "output_type": "display_data"
    }
   ],
   "source": [
    "# Plots Traffic as individual bar graphs, iterating through the shaped traffic and the original traffic over time steps\n",
    "plt.figure(figsize=(10, 6))\n",
    "\n",
    "colors = ['skyblue', 'lightgreen', 'salmon', 'orange', 'purple']\n",
    "timestepSize = 0.1\n",
    "\n",
    "# Plot the shaped traffic\n",
    "for idx, ((start, end), rate) in enumerate(shapedTraffic2):\n",
    "    color = colors[idx % len(colors)]\n",
    "    current_time = start\n",
    "    while current_time < end:\n",
    "        plt.bar(current_time, rate, width=timestepSize, color=color, align='edge')\n",
    "        current_time += timestepSize\n",
    "\n",
    "for (start, end), rate in traffic.items():\n",
    "    current_time = start\n",
    "    while current_time < end:\n",
    "        plt.bar(current_time, rate, width=timestepSize, color='gray', align='edge', alpha=0.5)\n",
    "        current_time += timestepSize\n",
    "\n",
    "plt.xlabel('Time')\n",
    "plt.ylabel('Bitrate')\n",
    "plt.title('Traffic Shaping Bitrate')\n",
    "plt.grid(True)\n",
    "\n",
    "plt.show()"
   ]
  },
  {
   "cell_type": "markdown",
   "metadata": {},
   "source": [
    "--- \n",
    "Figure 2 below illustrates the shaping functionality for a simplistic single-\n",
    "burst example, and shows both the bitrate and delay induced by the shaper\n",
    "\n",
    "![Figure 2](2.png)\n",
    "\n",
    "Traffic policing is a filtering mechanism that checks whether incoming traffic is conforming a Service\n",
    "Level Agreement (SLA), or non-conforming. Recall from the lectures that an often-used implementation of\n",
    "traffic policing is the LB implementation, which is characterized by two parameters: (1) the leak rate r, and\n",
    "(2) the burst tolerance b\n",
    "\n",
    "Let us assume that the leak rate of r = 3.5 Mbit/s and the burst tolerance b = 1 Mbyte."
   ]
  },
  {
   "cell_type": "markdown",
   "metadata": {},
   "source": [
    "#### Parameters"
   ]
  },
  {
   "cell_type": "code",
   "execution_count": 16,
   "metadata": {},
   "outputs": [],
   "source": [
    "leakRate = 3.5\n",
    "\n",
    "burstTolerance = 8\n",
    "\n",
    "timestepSize = 0.1"
   ]
  },
  {
   "cell_type": "markdown",
   "metadata": {},
   "source": [
    "---\n",
    "\n",
    "### Exercise 5\n",
    "\n",
    "**Make a graph that plots the bitrate of the policed traffic over time**\n",
    "\n",
    "Traffic bitrate remains the same as the policed traffic is not delayed, only marked when in excess of the contract"
   ]
  },
  {
   "cell_type": "code",
   "execution_count": 17,
   "metadata": {},
   "outputs": [
    {
     "name": "stdout",
     "output_type": "stream",
     "text": [
      "0 10 5\n",
      "15 20 7.5\n",
      "25 50 2.5\n"
     ]
    },
    {
     "data": {
      "image/png": "[encoded data removed]",
      "text/plain": [
       "<Figure size 720x432 with 1 Axes>"
      ]
     },
     "metadata": {
      "needs_background": "light"
     },
     "output_type": "display_data"
    }
   ],
   "source": [
    "plt.figure(figsize=(10, 6))\n",
    "\n",
    "colors = ['skyblue', 'lightgreen', 'salmon', 'orange', 'purple']\n",
    "\n",
    "for idx, ((start, end), rate) in enumerate(traffic.items()):\n",
    "    print(start, end, rate)\n",
    "    color = colors[idx % len(colors)]\n",
    "    for i in range(int((end - start))):\n",
    "        plt.bar(int(start + i), rate, width=1, color=color, align='edge')\n",
    "\n",
    "plt.xlabel('Time')\n",
    "plt.ylabel('Bitrate')\n",
    "plt.title('Traffic Policing Bitrate')\n",
    "plt.grid(True)\n",
    "\n",
    "plt.show()"
   ]
  },
  {
   "cell_type": "markdown",
   "metadata": {},
   "source": [
    "---\n",
    "\n",
    "Traffic policing is a filtering mechanism that checks whether incoming traffic is conforming a Service\n",
    "Level Agreement (SLA), or non-conforming"
   ]
  },
  {
   "cell_type": "markdown",
   "metadata": {},
   "source": [
    "---\n",
    "\n",
    "### Exercise 6\n",
    "\n",
    "***Make a two-colored graph that shows the parts of in coming traffic that are conforming the SLA in blue, and the non-conforming traffic in red, over time.***"
   ]
  },
  {
   "cell_type": "markdown",
   "metadata": {},
   "source": [
    "#### Function to Perform Traffic Policing"
   ]
  },
  {
   "cell_type": "code",
   "execution_count": 18,
   "metadata": {},
   "outputs": [
    {
     "data": {
      "text/plain": [
       "'\\nOutput:\\n    timeArray: time array\\n    unmarkedTraffic: unmarked traffic array\\n    trafficRate: traffic rate array\\n    remainingTokensarray: remaining tokens array\\n'"
      ]
     },
     "execution_count": 18,
     "metadata": {},
     "output_type": "execute_result"
    }
   ],
   "source": [
    "\"\"\"\n",
    "Function to perform traffic policing with marking\n",
    "Input:\n",
    "    traffic: dictionary with the traffic information\n",
    "    leakRate: leak rate\n",
    "    burstTolerance: burst tolerance\n",
    "    timestepSize: timestep size\n",
    "\"\"\"\n",
    "def trafficPolicing(traffic, leakRate, burstTolerance, timestepSize):\n",
    "    timeArray = []\n",
    "    unmarkedTraffic = []\n",
    "    trafficRate = []\n",
    "    remainingTokensarray = []\n",
    "    waterlevelArray = []\n",
    "\n",
    "    currentTime = 0.0\n",
    "    totalWaterLevel = 0.0\n",
    "    traffic = sorted(traffic.items())\n",
    "\n",
    "    for (start, end), rate in traffic:\n",
    "        remainingTokens = burstTolerance\n",
    "\n",
    "        # Handle time before the start of the current traffic interval\n",
    "        while currentTime < start:\n",
    "            timeArray.append(currentTime)\n",
    "            trafficRate.append(0.0)\n",
    "            unmarkedTraffic.append(0.0)\n",
    "            remainingTokensarray.append(remainingTokens)\n",
    "            waterlevelArray.append(totalWaterLevel)\n",
    "\n",
    "            currentTime = np.round(currentTime + timestepSize, 1)\n",
    "            remainingTokens = min(burstTolerance, remainingTokens + leakRate * timestepSize)\n",
    "\n",
    "            totalWaterLevel = max(0.0, totalWaterLevel - leakRate * timestepSize)\n",
    "\n",
    "        # Handle time during the current traffic interval\n",
    "        while currentTime < end:\n",
    "            timeArray.append(currentTime)\n",
    "            trafficRate.append(rate)\n",
    "            remainingTokensarray.append(remainingTokens)\n",
    "            waterlevelArray.append(totalWaterLevel)\n",
    "\n",
    "            currentTraffic = rate * timestepSize\n",
    "\n",
    "            # Check if all of the current traffic can be sent\n",
    "            if currentTraffic > remainingTokens:\n",
    "                unmarkedTraffic.append(leakRate)\n",
    "                remainingTokens -= leakRate * timestepSize\n",
    "\n",
    "                totalWaterLevel += leakRate * timestepSize\n",
    "            else:\n",
    "                unmarkedTraffic.append(rate)\n",
    "                remainingTokens -= currentTraffic\n",
    "\n",
    "                totalWaterLevel += currentTraffic\n",
    "\n",
    "            remainingTokens = min(burstTolerance, remainingTokens + leakRate * timestepSize)\n",
    "            totalWaterLevel = max(0.0, totalWaterLevel - leakRate * timestepSize)\n",
    "\n",
    "            currentTime = np.round(currentTime + timestepSize, 1)\n",
    "\n",
    "    return timeArray, unmarkedTraffic, trafficRate, remainingTokensarray, waterlevelArray\n",
    "\"\"\"\n",
    "Output:\n",
    "    timeArray: time array\n",
    "    unmarkedTraffic: unmarked traffic array\n",
    "    trafficRate: traffic rate array\n",
    "    remainingTokensarray: remaining tokens array\n",
    "\"\"\""
   ]
  },
  {
   "cell_type": "code",
   "execution_count": 19,
   "metadata": {},
   "outputs": [],
   "source": [
    "policingTime, policingUnmarked, policingTrafficRate, tokensArray, waterlevelArray = trafficPolicing(traffic, leakRate, burstTolerance, timestepSize)"
   ]
  },
  {
   "cell_type": "markdown",
   "metadata": {},
   "source": [
    "#### Plot the Marked Traffic from Traffic Policing"
   ]
  },
  {
   "cell_type": "code",
   "execution_count": 20,
   "metadata": {},
   "outputs": [
    {
     "data": {
      "image/png": "[encoded data removed]",
      "text/plain": [
       "<Figure size 720x432 with 1 Axes>"
      ]
     },
     "metadata": {
      "needs_background": "light"
     },
     "output_type": "display_data"
    }
   ],
   "source": [
    "plt.figure(figsize=(10, 6))\n",
    "\n",
    "plt.bar(policingTime, policingTrafficRate, width=timestepSize, color='red', align='edge', alpha=0.5)\n",
    "plt.bar(policingTime, policingUnmarked, width=timestepSize, color='skyblue', align='edge')\n",
    "\n",
    "plt.xlabel('Time')\n",
    "plt.ylabel('Bitrate')\n",
    "plt.title('Traffic Policing Bitrate')\n",
    "plt.grid(True)\n",
    "\n",
    "plt.show()"
   ]
  },
  {
   "cell_type": "markdown",
   "metadata": {},
   "source": [
    "#### Plot the Number of Tokens available over time"
   ]
  },
  {
   "cell_type": "code",
   "execution_count": 21,
   "metadata": {},
   "outputs": [
    {
     "data": {
      "image/png": "[encoded data removed]",
      "text/plain": [
       "<Figure size 720x432 with 1 Axes>"
      ]
     },
     "metadata": {
      "needs_background": "light"
     },
     "output_type": "display_data"
    }
   ],
   "source": [
    "plt.figure(figsize=(10, 6))\n",
    "\n",
    "plt.plot(policingTime, tokensArray, color='blue', linewidth=2)\n",
    "\n",
    "plt.xlabel('Time')\n",
    "plt.ylabel('Remaining Tokens')\n",
    "plt.title('Traffic Policing Tokens')\n",
    "plt.grid(True)\n",
    "\n",
    "plt.show()"
   ]
  },
  {
   "cell_type": "markdown",
   "metadata": {},
   "source": [
    "#### Plot the \"Water Volume\" of the \"Bucket\""
   ]
  },
  {
   "cell_type": "code",
   "execution_count": 22,
   "metadata": {},
   "outputs": [
    {
     "data": {
      "image/png": "[encoded data removed]",
      "text/plain": [
       "<Figure size 720x432 with 1 Axes>"
      ]
     },
     "metadata": {
      "needs_background": "light"
     },
     "output_type": "display_data"
    }
   ],
   "source": [
    "plt.figure(figsize=(10, 6))\n",
    "\n",
    "plt.plot(policingTime, waterlevelArray, color='blue', linewidth=2)\n",
    "plt.xlabel('Time')\n",
    "plt.ylabel('Water Volume')\n",
    "plt.title('Traffic Policing Water Volume')\n",
    "plt.grid(True)\n",
    "\n",
    "plt.show()"
   ]
  },
  {
   "cell_type": "markdown",
   "metadata": {},
   "source": [
    "---\n",
    "\n",
    "### Exercise 7\n",
    "\n",
    "**Answer the same questions as in questions 5 and 6, but where the leak rate and shaping rate are now\n",
    "1.75 Mbit/s (instead of 3.5 Mbit/s).**"
   ]
  },
  {
   "cell_type": "markdown",
   "metadata": {},
   "source": [
    "#### Parameters"
   ]
  },
  {
   "cell_type": "code",
   "execution_count": 23,
   "metadata": {},
   "outputs": [],
   "source": [
    "shapingRate = 1.75\n",
    "\n",
    "leakRate2 = 1.75\n",
    "\n",
    "burstTolerance2 = 8\n",
    "\n",
    "timestepSize = 0.1"
   ]
  },
  {
   "cell_type": "markdown",
   "metadata": {},
   "source": [
    "#### Traffic Policing with Leak Rate of $1.75$"
   ]
  },
  {
   "cell_type": "code",
   "execution_count": 24,
   "metadata": {},
   "outputs": [],
   "source": [
    "policingTime3, policingUnmarked3, policingTrafficRate3, tokensArray3, waterlevelArray3 = trafficPolicing(traffic, leakRate2, burstTolerance2, timestepSize)"
   ]
  },
  {
   "cell_type": "markdown",
   "metadata": {},
   "source": [
    "#### Plot the Traffic Shaping of $1.75$ and Traffic Policing with Leak Rate of $1.75$"
   ]
  },
  {
   "cell_type": "code",
   "execution_count": 25,
   "metadata": {},
   "outputs": [
    {
     "data": {
      "image/png": "[encoded data removed]",
      "text/plain": [
       "<Figure size 720x432 with 1 Axes>"
      ]
     },
     "metadata": {
      "needs_background": "light"
     },
     "output_type": "display_data"
    }
   ],
   "source": [
    "plt.figure(figsize=(10, 6))\n",
    "\n",
    "plt.bar(policingTime3, policingTrafficRate3, width=timestepSize, color='red', align='edge', alpha=0.5)\n",
    "plt.bar(policingTime3, policingUnmarked3, width=timestepSize, color='skyblue', align='edge')\n",
    "\n",
    "plt.xlabel('Time')\n",
    "plt.ylabel('Bitrate')\n",
    "plt.title('Traffic Policing Bitrate')\n",
    "plt.grid(True)\n",
    "\n",
    "plt.show()"
   ]
  },
  {
   "cell_type": "markdown",
   "metadata": {},
   "source": [
    "#### Plot the Number of Tokens available over time for Traffic Policing with Leak Rate of $1.75$"
   ]
  },
  {
   "cell_type": "code",
   "execution_count": 26,
   "metadata": {},
   "outputs": [
    {
     "data": {
      "image/png": "[encoded data removed]",
      "text/plain": [
       "<Figure size 720x432 with 1 Axes>"
      ]
     },
     "metadata": {
      "needs_background": "light"
     },
     "output_type": "display_data"
    }
   ],
   "source": [
    "plt.figure(figsize=(10, 6))\n",
    "\n",
    "plt.plot(policingTime3, tokensArray3, color='blue', linewidth=2)\n",
    "\n",
    "plt.xlabel('Time')\n",
    "plt.ylabel('Remaining Tokens')\n",
    "plt.title('Traffic Policing Tokens')\n",
    "plt.grid(True)\n",
    "\n",
    "plt.show()"
   ]
  },
  {
   "cell_type": "markdown",
   "metadata": {},
   "source": [
    "#### Plot the \"Water Volume\" of the \"Bucket\" with Traffic Policing with Leak Rate of $1.75$"
   ]
  },
  {
   "cell_type": "code",
   "execution_count": 27,
   "metadata": {},
   "outputs": [
    {
     "data": {
      "image/png": "[encoded data removed]",
      "text/plain": [
       "<Figure size 720x432 with 1 Axes>"
      ]
     },
     "metadata": {
      "needs_background": "light"
     },
     "output_type": "display_data"
    }
   ],
   "source": [
    "plt.figure(figsize=(10, 6))\n",
    "\n",
    "plt.plot(policingTime3, waterlevelArray3, color='blue', linewidth=2)\n",
    "plt.xlabel('Time')\n",
    "plt.ylabel('Water Volume')\n",
    "plt.title('Traffic Policing Water Volume')\n",
    "plt.grid(True)\n",
    "\n",
    "plt.show()"
   ]
  },
  {
   "cell_type": "markdown",
   "metadata": {},
   "source": [
    "#### Traffic Shaping of $1.75$ and Traffic Policing with Leak Rate of $1.75$"
   ]
  },
  {
   "cell_type": "code",
   "execution_count": 28,
   "metadata": {},
   "outputs": [],
   "source": [
    "shapedTraffic3 = trafficShaping(traffic, shapingRate)"
   ]
  },
  {
   "cell_type": "code",
   "execution_count": 29,
   "metadata": {},
   "outputs": [],
   "source": [
    "# Convert Shaped traffic to dictionary to then be policed\n",
    "dictShapedTraffic3 = {timespan: rate for timespan, rate in shapedTraffic3}"
   ]
  },
  {
   "cell_type": "code",
   "execution_count": 30,
   "metadata": {},
   "outputs": [],
   "source": [
    "policingTime2, policingUnmarked2, policingTrafficRate2, tokensArray2, waterlevelArray2 = trafficPolicing(dictShapedTraffic3, leakRate2, burstTolerance2, timestepSize)"
   ]
  },
  {
   "cell_type": "markdown",
   "metadata": {},
   "source": [
    "#### Plot the Traffic Shaping of $1.75$ and Traffic Policing with Leak Rate of $1.75$"
   ]
  },
  {
   "cell_type": "code",
   "execution_count": 31,
   "metadata": {},
   "outputs": [
    {
     "data": {
      "image/png": "[encoded data removed]",
      "text/plain": [
       "<Figure size 720x432 with 1 Axes>"
      ]
     },
     "metadata": {
      "needs_background": "light"
     },
     "output_type": "display_data"
    }
   ],
   "source": [
    "plt.figure(figsize=(10, 6))\n",
    "\n",
    "plt.bar(policingTime2, policingTrafficRate2, width=timestepSize, color='red', align='edge', alpha=0.5)\n",
    "plt.bar(policingTime2, policingUnmarked2, width=timestepSize, color='skyblue', align='edge')\n",
    "\n",
    "for (start, end), rate in traffic.items():\n",
    "    for i in range(int((end - start))):\n",
    "        plt.bar(int(start + i), rate, width=1, color='gray', align='edge', alpha=0.5)\n",
    "\n",
    "plt.xlabel('Time')\n",
    "plt.ylabel('Bitrate')\n",
    "plt.title('Traffic Policing Bitrate')\n",
    "plt.grid(True)\n",
    "\n",
    "plt.show()"
   ]
  },
  {
   "cell_type": "markdown",
   "metadata": {},
   "source": [
    "#### Plot the Number of Tokens available over time for Traffic Shaping of $1.75$ and Traffic Policing with Leak Rate of $1.75$"
   ]
  },
  {
   "cell_type": "code",
   "execution_count": 32,
   "metadata": {},
   "outputs": [
    {
     "data": {
      "image/png": "[encoded data removed]",
      "text/plain": [
       "<Figure size 720x432 with 1 Axes>"
      ]
     },
     "metadata": {
      "needs_background": "light"
     },
     "output_type": "display_data"
    }
   ],
   "source": [
    "plt.figure(figsize=(10, 6))\n",
    "\n",
    "plt.plot(policingTime2, tokensArray2, color='blue', linewidth=2)\n",
    "\n",
    "plt.xlabel('Time')\n",
    "plt.ylabel('Remaining Tokens')\n",
    "plt.title('Traffic Policing Tokens')\n",
    "plt.grid(True)\n",
    "\n",
    "plt.show()"
   ]
  },
  {
   "cell_type": "markdown",
   "metadata": {},
   "source": [
    "#### Plot the \"Water Volume\" of the \"Bucket\" with Traffic Shaping of $1.75$ and Traffic Policing with Leak Rate of $1.75$"
   ]
  },
  {
   "cell_type": "code",
   "execution_count": 33,
   "metadata": {},
   "outputs": [
    {
     "data": {
      "image/png": "[encoded data removed]",
      "text/plain": [
       "<Figure size 720x432 with 1 Axes>"
      ]
     },
     "metadata": {
      "needs_background": "light"
     },
     "output_type": "display_data"
    }
   ],
   "source": [
    "plt.figure(figsize=(10, 6))\n",
    "\n",
    "plt.plot(policingTime2, waterlevelArray2, color='blue', linewidth=2)\n",
    "plt.xlabel('Time')\n",
    "plt.ylabel('Water Volume')\n",
    "plt.title('Traffic Policing Water Volume')\n",
    "plt.grid(True)\n",
    "\n",
    "plt.show()"
   ]
  },
  {
   "cell_type": "markdown",
   "metadata": {},
   "source": [
    "---\n",
    "\n",
    "## II : Performance of TCP-based networks\n",
    "\n",
    "During the lectures, we have discussed how the TCP protocol works, including the evolution of the\n",
    "congestion window, acknowledgements, TCP Slow Start, etc. \n",
    "\n",
    "![Figure 3](3.png)\n"
   ]
  },
  {
   "cell_type": "markdown",
   "metadata": {},
   "source": [
    "---\n",
    "\n",
    "### Exercise 8\n",
    "\n",
    "**What is the main downside of TCP Slow Start?**"
   ]
  },
  {
   "cell_type": "markdown",
   "metadata": {},
   "source": [
    "TCP Slow Start as a Congestion Control mechanism prevents network congestion by gradually increasing the amount of data sent over the network over time, but this process has some downsides. The greatest downside is one that stems from the very structure of the system in which the slow start begins with a small congestion window, meaning the traffic cannot maximize the usage of available bandwidth immediately."
   ]
  },
  {
   "cell_type": "markdown",
   "metadata": {},
   "source": [
    "---\n",
    "\n",
    "**Suppose that we want to transfer a file from Amsterdam and Atlanta, GA, over a long-distance transatlantic\n",
    "TCP-connection with the following characteristics: RTT = 60ms, receive CW size = 256KB, bandwidth =\n",
    "200 Mbit/s, MSS = 1460 Bytes, and where the request processing time to generate response = 50ms.**\n"
   ]
  },
  {
   "cell_type": "markdown",
   "metadata": {},
   "source": [
    "#### Unit-Converted Parameters\n",
    "\n",
    "Round Trip time = $0.06$ seconds\n",
    "\n",
    "Congestion Window = $256$ KB\n",
    "\n",
    "Bandwidth = $24414.0625$ KB/sec\n",
    "\n",
    "Maximum Segment Size = $1.426$ KB\n",
    "\n",
    "Processing Time = $0.05$ seconds"
   ]
  },
  {
   "cell_type": "markdown",
   "metadata": {},
   "source": [
    "---\n",
    "\n",
    "### Exercise 9\n",
    "\n",
    "**For file sizes 15KBytes, 25KBytes and 40KBytes, calculate the transfer time when the initial CW size is 1 segment, assuming that the transfer starts off with a three-way handshake, and is completely processed in Slow Start**"
   ]
  },
  {
   "cell_type": "markdown",
   "metadata": {},
   "source": [
    "#### Transfer Time Calculations\n",
    "\n",
    "Three-way handshake = $1$ Roundtrip = $0.06$ seconds\n",
    "\n",
    "Slow Start: \n",
    "- 1 RTT : 1 MSS\n",
    "- 2 RTT : 2 MSS + 1 MSS = 3 MSS\n",
    "- 3 RTT : 4 MSS + 2 MSS + 1 MSS = 7 MSS\n",
    "- 4 RTT : 8 MSS + 4 MSS + 2 MSS + 1 MSS = 15 MSS\n",
    "- 5 RTT : 16 MSS + 8 MSS + 4 MSS + 2 MSS + 1 MSS = 31 MSS\n",
    "\n",
    "##### **15 KBytes**\n",
    "\n",
    "Number of Segments = File Size/MSS = $15/1.426 \\approx 11$\n",
    "\n",
    "$11$ Segments requires $4$ roundtrips given an initial conditon window of $1$ MSS\n",
    "\n",
    "The time for $4$ roundtrips is $0.06 \\times 4 = 0.24$\n",
    "\n",
    "The total transfer time is the sum of...\n",
    "- Three Way Handshake = $0.06$\n",
    "- Request Processing Time = $0.05$\n",
    "- Slow Start Time = $0.24$\n",
    "\n",
    "$$\\text{Transfer Time } = 0.06+0.05+0.24 = 0.35 \\text{ seconds}$$\n",
    "\n",
    "##### **25 KBytes**\n",
    "\n",
    "Number of Segments = File Size/MSS =  $25/1.426 \\approx 18$\n",
    "\n",
    "$18$ Segments requires $5$ roundtrips given an initial conditon window of $1$ MSS\n",
    "\n",
    "The time for $5$ roundtrips is $0.06 \\times 5 = 0.3$\n",
    "\n",
    "The total transfer time is the sum of...\n",
    "- Three Way Handshake = $0.06$\n",
    "- Request Processing Time = $0.05$\n",
    "- Slow Start Time = $0.3$\n",
    "\n",
    "$$\\text{Transfer Time } = 0.06+0.05+0.3 = 0.41 \\text{ seconds}$$\n",
    "\n",
    "##### **40 KBytes**\n",
    "\n",
    "Number of Segments = File Size/MSS =  $40/1.426 \\approx 29$\n",
    "\n",
    "$29$ Segments requires $5$ roundtrips given an initial conditon window of $1$ MSS\n",
    "\n",
    "The time for $5$ roundtrips is $0.06 \\times 5 = 0.3$\n",
    "\n",
    "The total transfer time is the sum of...\n",
    "- Three Way Handshake = $0.06$\n",
    "- Request Processing Time = $0.05$\n",
    "- Slow Start Time = $0.3$\n",
    "\n",
    "$$\\text{Transfer Time } = 0.06+0.05+0.3 = 0.41 \\text{ seconds}$$"
   ]
  },
  {
   "cell_type": "markdown",
   "metadata": {},
   "source": [
    "---\n",
    "\n",
    "### Exercise 10\n",
    "\n",
    "**Answer the same questions (as in question 8), but now assuming that the initial CW size of the TCP connection is two segments**"
   ]
  },
  {
   "cell_type": "markdown",
   "metadata": {},
   "source": [
    "#### Transfer Time Calculations\n",
    "\n",
    "Slow Start: \n",
    "- 1 RTT : 2 MSS\n",
    "- 2 RTT : 4 MSS + 2 MSS = 6 MSS\n",
    "- 3 RTT : 8 MSS + 4 MSS + 2 MSS = 14 MSS\n",
    "- 4 RTT : 16 MSS + 8 MSS + 4 MSS + 2 MSS = 30 MSS\n",
    "\n",
    "##### **15 KBytes**\n",
    "\n",
    "Number of Segments = File Size/MSS = $15/1.426 \\approx 11$\n",
    "\n",
    "$11$ Segments requires $3$ roundtrips given an initial conditon window of $2$ MSS\n",
    "\n",
    "The time for $3$ roundtrips is $0.06 \\times 3 = 0.18$\n",
    "\n",
    "The total transfer time is the sum of...\n",
    "- Three Way Handshake = $0.06$\n",
    "- Request Processing Time = $0.05$\n",
    "- Slow Start Time = $0.18$\n",
    "\n",
    "$$\\text{Transfer Time } = 0.06+0.05+0.18 = 0.29 \\text{ seconds}$$\n",
    "\n",
    "\n",
    "##### **25 KBytes**\n",
    "\n",
    "Number of Segments = File Size/MSS =  $25/1.426 \\approx 18$\n",
    "\n",
    "$18$ Segments requires $5$ roundtrips given an initial conditon window of $2$ MSS\n",
    "\n",
    "The time for $4$ roundtrips is $0.06 \\times 4 = 0.24$\n",
    "\n",
    "The total transfer time is the sum of...\n",
    "- Three Way Handshake = $0.06$\n",
    "- Request Processing Time = $0.05$\n",
    "- Slow Start Time = $0.24$\n",
    "\n",
    "$$\\text{Transfer Time } = 0.06+0.05+0.24 = 0.35 \\text{ seconds}$$\n",
    "\n",
    "##### **40 KBytes**\n",
    "\n",
    "Number of Segments = File Size/MSS =  $40/1.426 \\approx 29$\n",
    "\n",
    "$29$ Segments requires $5$ roundtrips given an initial conditon window of $2$ MSS\n",
    "\n",
    "The time for $4$ roundtrips is $0.06 \\times 4 = 0.24$\n",
    "\n",
    "The total transfer time is the sum of...\n",
    "- Three Way Handshake = $0.06$\n",
    "- Request Processing Time = $0.05$\n",
    "- Slow Start Time = $0.24$\n",
    "\n",
    "$$\\text{Transfer Time } = 0.06+0.05+0.24 = 0.35 \\text{ seconds}$$"
   ]
  },
  {
   "cell_type": "markdown",
   "metadata": {},
   "source": [
    "---\n",
    "\n",
    "### Exercise 11\n",
    "\n",
    "**Answer the same question (as in question 9), but now assuming that the RTT is doubled to 120ms (instead of 60 ms).**\n"
   ]
  },
  {
   "cell_type": "markdown",
   "metadata": {},
   "source": [
    "#### Transfer Time Calculations\n",
    "\n",
    "Converting all units to seconds and Kilobytes...\n",
    "\n",
    "Round Trip time = $0.12$ seconds\n",
    "\n",
    "Congestion Window = $256$ KB\n",
    "\n",
    "Bandwidth = $24414.0625$ KB/sec\n",
    "\n",
    "Maximum Segment Size = $1.426$ KB\n",
    "\n",
    "Processing Time = $0.05$ seconds\n",
    "\n",
    "Three-way handshake = $1$ Roundtrip = $0.12$ seconds\n",
    "\n",
    "Slow Start: \n",
    "- 1 RTT : 1 MSS\n",
    "- 2 RTT : 2 MSS + 1 MSS = 3 MSS\n",
    "- 3 RTT : 4 MSS + 2 MSS + 1 MSS = 7 MSS\n",
    "- 4 RTT : 8 MSS + 4 MSS + 2 MSS + 1 MSS = 15 MSS\n",
    "- 5 RTT : 16 MSS + 8 MSS + 4 MSS + 2 MSS + 1 MSS = 31 MSS\n",
    "\n",
    "##### **15 KBytes**\n",
    "\n",
    "Number of Segments = File Size/MSS = $15/1.426 \\approx 11$\n",
    "\n",
    "$11$ Segments requires $4$ roundtrips given an initial conditon window of $1$ MSS\n",
    "\n",
    "The time for $4$ roundtrips is $0.12 \\times 4 = 0.48$\n",
    "\n",
    "The total transfer time is the sum of...\n",
    "- Three Way Handshake = $0.12$\n",
    "- Request Processing Time = $0.05$\n",
    "- Slow Start Time = $0.48$\n",
    "\n",
    "$$\\text{Transfer Time } = 0.12+0.05+0.48 = 0.65 \\text{ seconds}$$\n",
    "\n",
    "##### **25 KBytes**\n",
    "\n",
    "Number of Segments = File Size/MSS =  $25/1.426 \\approx 18$\n",
    "\n",
    "$18$ Segments requires $5$ roundtrips given an initial conditon window of $1$ MSS\n",
    "\n",
    "The time for $5$ roundtrips is $0.12 \\times 5 = 0.60$\n",
    "\n",
    "The total transfer time is the sum of...\n",
    "- Three Way Handshake = $0.12$\n",
    "- Request Processing Time = $0.05$\n",
    "- Slow Start Time = $0.6$\n",
    "\n",
    "$$\\text{Transfer Time } = 0.12+0.05+0.6 = 0.77 \\text{ seconds}$$\n",
    "\n",
    "##### **40 KBytes**\n",
    "\n",
    "Number of Segments = File Size/MSS =  $40/1.426 \\approx 29$\n",
    "\n",
    "$29$ Segments requires $5$ roundtrips given an initial conditon window of $1$ MSS\n",
    "\n",
    "The time for $5$ roundtrips is $0.12 \\times 5 = 0.60$\n",
    "\n",
    "The total transfer time is the sum of...\n",
    "- Three Way Handshake = $0.12$\n",
    "- Request Processing Time = $0.05$\n",
    "- Slow Start Time = $0.6$\n",
    "\n",
    "$$\\text{Transfer Time } = 0.12+0.05+0.6 = 0.77 \\text{ seconds}$$"
   ]
  },
  {
   "cell_type": "markdown",
   "metadata": {},
   "source": [
    "---\n",
    "\n",
    "### Exercise 12\n",
    "\n",
    "**Use insights obtained in questions 8, 9 and 10 to give a formula that expresses the transfer time (in\n",
    "Slow Start, and including the three-way handshake) in terms of the file size, the RTT, the MSS and the\n",
    "server processing times (both the receive CW size and the bandwidth are assumed to be very large\n",
    "such that they do not play a role).**"
   ]
  },
  {
   "cell_type": "markdown",
   "metadata": {},
   "source": [
    "#### Parameters\n",
    "\n",
    "##### Known\n",
    "\n",
    "$R$ : Roundtrip Time\n",
    "\n",
    "$M$ : Maximum Segment Size\n",
    "\n",
    "$P$ : Processing Time\n",
    "\n",
    "$F$ : File Size\n",
    "\n",
    "$C$ : Initial Congestion Window\n",
    "\n",
    "##### Unknown\n",
    "\n",
    "$S$ : Number of segments required for the file $F$\n",
    "\n",
    "$N$ : Number of Roundtrips required for files transfer\n",
    "\n",
    "$H$ : Three-way Handshake Slow Start\n",
    "\n",
    "$T$ : Total Transfer Time with Three-Way Handshake"
   ]
  },
  {
   "cell_type": "markdown",
   "metadata": {},
   "source": [
    "#### Three-Way Handshake Time\n",
    "\n",
    "$$H = 1.0 \\cdot R$$"
   ]
  },
  {
   "cell_type": "markdown",
   "metadata": {},
   "source": [
    "#### Number of Segments required\n",
    "Rounding to the next highest whole number...\n",
    "\n",
    "\n",
    "$$S = \\frac{F}{M}$$"
   ]
  },
  {
   "cell_type": "markdown",
   "metadata": {},
   "source": [
    "#### Number of Round Trips required for $S$ Segments of $M$ size\n",
    "\n",
    "Find $N$ roundtrips such that...\n",
    "\n",
    "$$\\sum_{n=1}^N 2^{n-1} \\cdot C \\geq S$$"
   ]
  },
  {
   "cell_type": "markdown",
   "metadata": {},
   "source": [
    "#### Total Transfer time for file of size $F$\n",
    "\n",
    "$$T = H + P + (N \\cdot R)$$"
   ]
  },
  {
   "cell_type": "markdown",
   "metadata": {},
   "source": [
    "#### Approximating the Number of Round Trips $N$ required for $S$ Segments\n",
    "\n",
    "By approximating the equation for the number of roundtrips required for $S$ segments of $M$ size, the formula may be adjusted to be inserted into the Total Transfer Time Equation.\n",
    "\n",
    "$$\\sum_{n=1}^N 2^{n-1} \\cdot C \\geq S$$\n",
    "\n",
    "$$C \\cdot \\sum_{n=1}^N 2^{n-1} \\geq S$$\n",
    "\n",
    "$\\sum_{n=1}^N 2^{n-1}$ is a geometric series where $a_1 = 1$ such that...\n",
    "\n",
    "$$\\frac{2^N - 1}{2-1} = 2^N-1$$\n",
    "\n",
    "$$(2^{N} - 1) \\cdot C \\geq S$$\n",
    "\n",
    "Where $C > 0$...\n",
    "\n",
    "$$2^{N} - 1 \\geq \\frac{S}{C}$$\n",
    "\n",
    "$$2^{N} \\geq \\frac{S}{C} + 1$$\n",
    "\n",
    "$$N \\geq \\log_2 (\\frac{S}{C} + 1)$$\n",
    "\n",
    "This gives $N$ roundtrips to be rounded up to the next highest whole number, but to better fit into the Total Transfer Time Equation, this may be approximated by adding $1$ to $N$ such that \n",
    "\n",
    "$$N \\geq \\log_2 (\\frac{S}{C} + 1) + 1$$\n",
    "\n",
    "Which may be approximated such that\n",
    "\n",
    "$$N \\geq \\log_2 (\\frac{S}{C}) + 1$$\n",
    "\n",
    "To find the time to send $S$ segments in $N$ roundtrips, multiply by the RTT $R$:\n",
    "\n",
    "$$T_N = (\\log_2 (\\frac{S}{C}) + 1) \\cdot R$$\n",
    "\n",
    "... which matches the known equation for the imte needed to download and acknowledge $n$ packets:\n",
    "\n",
    "$$ R(n) = [log_2(\\frac{n}{CW_{init}}) + 1] \\cdot RTT$$"
   ]
  },
  {
   "cell_type": "markdown",
   "metadata": {},
   "source": [
    "#### Updated Total Transfer Time Formulae\n",
    "\n",
    "$$T = 1.0 R + P + (\\log_2 (\\frac{S}{C}) + 1) R$$"
   ]
  }
 ],
 "metadata": {
  "kernelspec": {
   "display_name": "Python 3",
   "language": "python",
   "name": "python3"
  },
  "language_info": {
   "codemirror_mode": {
    "name": "ipython",
    "version": 3
   },
   "file_extension": ".py",
   "mimetype": "text/x-python",
   "name": "python",
   "nbconvert_exporter": "python",
   "pygments_lexer": "ipython3",
   "version": "3.8.5"
  }
 },
 "nbformat": 4,
 "nbformat_minor": 2
}
